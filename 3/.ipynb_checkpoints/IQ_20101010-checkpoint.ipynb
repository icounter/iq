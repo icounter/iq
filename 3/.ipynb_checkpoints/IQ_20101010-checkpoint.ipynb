{
 "cells": [
  {
   "cell_type": "markdown",
   "metadata": {},
   "source": [
    "## IQ Seminar - Oct 10, 2015\n",
    " \n",
    "Master of Financial Engineering Program, Baruch College   \n",
    "  \n",
    "<img src=\"http://mfe.baruch.cuny.edu/wp-content/uploads/2014/09/BCCUNYstacked_BLK.jpg\" align = \"left\" width=160>  "
   ]
  },
  {
   "cell_type": "markdown",
   "metadata": {},
   "source": [
    "* Weiyi Chen, weiyi.chen@baruchmail.cuny.edu"
   ]
  },
  {
   "cell_type": "markdown",
   "metadata": {},
   "source": [
    "# Data Structure"
   ]
  },
  {
   "cell_type": "markdown",
   "metadata": {},
   "source": [
    "## 1. Array\n",
    "\n",
    "### 1.1 Definition\n",
    "\n",
    "An array is a collection that forms a data structure where objects are stored linearly, one after another in memory.\n",
    "\n",
    "### 1.2 Example\n",
    "\n",
    "A notebook with pages numbered 1 through 12. Each page is an element of the array 'notebook'. You would retrieve information from a page by referring to its number or subscript, i.e., notebook(4) would refer to page 4 of the array notebook.\n",
    "\n",
    "<img src='https://upload.wikimedia.org/wikibooks/en/8/85/SimpleArray.png'>\n",
    "\n",
    "### 1.3 MultiDimentional\n",
    "\n",
    "Arrays can also be multidimensional - instead of accessing an element of a one-dimensional list, elements are accessed by two or more indices, as from a matrix or tensor.\n",
    "\n",
    "<img src='https://upload.wikimedia.org/wikibooks/en/1/16/MultidimensionalArray.png'>\n",
    "\n",
    "### 1.4 Operations\n",
    "\n",
    "- `make-array(integer n): Array`\n",
    "\n",
    "- `get-value-at(Array a, integer index): Element`\n",
    "\n",
    "- `set-value-at(Array a, integer index, Element new-value)`\n",
    "\n",
    "### 1.5 Time Complexity\n",
    "\n",
    "- Arrays guarantee constant time read and write access, O(1)\n",
    "- however many lookup operations (find_min, find_max, find_index) of an instance of an element are linear time, O(n)\n",
    "\n",
    "### 1.6 Bound Check\n",
    "\n",
    "There are three options open:\n",
    "\n",
    "1. Most languages (Pascal, Java, C#) will check the bounds and raise some error condition when an element is accessed which does not exist.\n",
    "2. A few languages (C, C++) will not check the bounds and return or set some arbitrary value when an element outside the valid range is accessed.\n",
    "3. Scripting languages often automatically expand the array when data is written to an index which was not valid until then."
   ]
  },
  {
   "cell_type": "markdown",
   "metadata": {},
   "source": [
    "### 1.7 Practice"
   ]
  },
  {
   "cell_type": "markdown",
   "metadata": {},
   "source": [
    "#### 1.7.1 Move Zeroes\n",
    "\n",
    "Given an array nums, write a function to move all 0's to the end of it while maintaining the relative order of the non-zero elements.\n",
    "\n",
    "For example, given nums = [0, 1, 0, 3, 12], after calling your function, nums should be [1, 3, 12, 0, 0].\n",
    "\n",
    "https://leetcode.com/problems/move-zeroes/"
   ]
  },
  {
   "cell_type": "code",
   "execution_count": 10,
   "metadata": {
    "collapsed": false
   },
   "outputs": [],
   "source": [
    "class Solution(object):\n",
    "    def moveZeroes(self, nums):\n",
    "        \"\"\"\n",
    "        :type nums: List[int]\n",
    "        :rtype: void Do not return anything, modify nums in-place instead.\n",
    "        \"\"\"\n",
    "        i = 0\n",
    "        for num in nums:\n",
    "            if num != 0:\n",
    "                nums[i] = num\n",
    "                i += 1\n",
    "        nums[i:] = [0] * (len(nums)-i)"
   ]
  },
  {
   "cell_type": "markdown",
   "metadata": {},
   "source": [
    "#### 1.7.2 Best Time to Buy and Sell Stock II\n",
    "\n",
    "Say you have an array for which the ith element is the price of a given stock on day i.\n",
    "\n",
    "Design an algorithm to find the maximum profit. You may complete as many transactions as you like (ie, buy one and sell one share of the stock multiple times). However, you may not engage in multiple transactions at the same time (ie, you must sell the stock before you buy again).\n",
    "\n",
    "https://leetcode.com/problems/best-time-to-buy-and-sell-stock-ii/"
   ]
  },
  {
   "cell_type": "code",
   "execution_count": 11,
   "metadata": {
    "collapsed": true
   },
   "outputs": [],
   "source": [
    "class Solution:\n",
    "    # @param prices, a list of integer\n",
    "    # @return an integer\n",
    "    def maxProfit(self, prices):\n",
    "        profit = 0\n",
    "        for i in range(0,len(prices)-1,1):\n",
    "            if prices[i+1] > prices[i]:\n",
    "                profit += prices[i+1]-prices[i]\n",
    "        return profit"
   ]
  },
  {
   "cell_type": "markdown",
   "metadata": {},
   "source": [
    "#### 1.7.3 Contains Duplicate"
   ]
  },
  {
   "cell_type": "markdown",
   "metadata": {},
   "source": [
    "Given an array of integers, find if the array contains any duplicates. Your function should return true if any value appears at least twice in the array, and it should return false if every element is distinct.\n",
    "\n",
    "https://leetcode.com/problems/contains-duplicate/"
   ]
  },
  {
   "cell_type": "code",
   "execution_count": 12,
   "metadata": {
    "collapsed": true
   },
   "outputs": [],
   "source": [
    "class Solution(object):\n",
    "    def containsDuplicate(self, nums):\n",
    "        \"\"\"\n",
    "        :type nums: List[int]\n",
    "        :rtype: bool\n",
    "        \"\"\"\n",
    "        nums.sort()\n",
    "        for i in range(len(nums)-1):\n",
    "            if nums[i] == nums[i+1]:\n",
    "                return True\n",
    "        return False"
   ]
  },
  {
   "cell_type": "markdown",
   "metadata": {},
   "source": [
    "#### 1.7.4 Product of Array Except Self"
   ]
  },
  {
   "cell_type": "markdown",
   "metadata": {},
   "source": [
    "Given an array of n integers where n > 1, nums, return an array output such that output[i] is equal to the product of all the elements of nums except nums[i].\n",
    "\n",
    "Solve it without division and in O(n).\n",
    "\n",
    "For example, given [1,2,3,4], return [24,12,8,6]."
   ]
  },
  {
   "cell_type": "code",
   "execution_count": 13,
   "metadata": {
    "collapsed": true
   },
   "outputs": [],
   "source": [
    "class Solution(object):\n",
    "    \n",
    "    def cumprod(self, nums):\n",
    "        results = []\n",
    "        tmp = 1\n",
    "        for num in nums:\n",
    "            tmp *= num\n",
    "            results.append(tmp)\n",
    "        return results\n",
    "    \n",
    "    def productExceptSelf(self, nums):\n",
    "        \"\"\"\n",
    "        :type nums: List[int]\n",
    "        :rtype: List[int]\n",
    "        \"\"\"\n",
    "        ls_left = [1] + self.cumprod(nums)[:-1]\n",
    "        ls_right = self.cumprod(nums[::-1])[::-1][1:] + [1]\n",
    "        return [i*j for i, j in zip(ls_left, ls_right)]"
   ]
  },
  {
   "cell_type": "markdown",
   "metadata": {},
   "source": [
    "#### 1.7.5 Majority Element (Credit Suisse)"
   ]
  },
  {
   "cell_type": "markdown",
   "metadata": {},
   "source": [
    "Given an array of size n, find the majority element. The majority element is the element that appears more than ⌊ n/2 ⌋ times.\n",
    "\n",
    "You may assume that the array is non-empty and the majority element always exist in the array."
   ]
  },
  {
   "cell_type": "code",
   "execution_count": 14,
   "metadata": {
    "collapsed": true
   },
   "outputs": [],
   "source": [
    "class Solution:\n",
    "    # @param num, a list of integers\n",
    "    # @return an integer\n",
    "    def majorityElement(self, num):\n",
    "        candidate, count = None, 0\n",
    "        for e in num:\n",
    "            if count == 0:\n",
    "                candidate, count = e, 1\n",
    "            elif e == candidate:\n",
    "                count += 1\n",
    "            else:\n",
    "                count -= 1\n",
    "        return candidate"
   ]
  },
  {
   "cell_type": "markdown",
   "metadata": {},
   "source": [
    "## 2. Linked Lists\n",
    "\n",
    "<img src='https://upload.wikimedia.org/wikipedia/commons/5/5e/Doubly-linked-list.svg'>\n",
    "\n",
    "### 2.1 Operations & Complexity\n",
    "\n",
    "`get-begin():List Iterator<item-type>`\n",
    "    - Runs in O(1) time.\n",
    "\n",
    "`get-end():List Iterator<item-type>`\n",
    "    - Runs in O(1) time.\n",
    "\n",
    "`prepend(new-item:item-type)`\n",
    "    - Adds a new element at the beginning of a list. \n",
    "    - Runs in O(1) time.\n",
    "\n",
    "`insert-after(iter:List Iterator<item-type>, new-item:item-type)`\n",
    "    - Adds a new element immediately after iter. \n",
    "    - Runs in O(N) time.\n",
    "\n",
    "`remove-first()`\n",
    "    - Removes the element at the beginning of a list. \n",
    "    - Runs in O(1) time.\n",
    "\n",
    "`remove-after(iter:List Iterator<item-type>)`\n",
    "    - Removes the element immediately after iter. \n",
    "    - Runs in O(N) time.\n",
    "\n",
    "`is-empty():Boolean`\n",
    "    - True if there are no elements in the list. \n",
    "    - Runs in O(1) time.\n",
    "\n",
    "`get-size():Integer`\n",
    "    - Returns the number of elements in the list. \n",
    "    - Runs in O(N) time.\n",
    "\n",
    "`get-nth(n:Integer):item-type`\n",
    "    - Returns the nth element in the list, counting from 0. \n",
    "    - Runs in O(N) time.\n",
    "\n",
    "`set-nth(n:Integer, new-value:item-type)`\n",
    "    - Assigns a new value to the nth element in the list, counting from 0. \n",
    "    - Runs in O(N) time."
   ]
  },
  {
   "cell_type": "markdown",
   "metadata": {},
   "source": [
    "### 2.2 Advantages / Disadvantages\n",
    "\n",
    "For the most part, an advantage of an array is a disadvantage of a linked-list, and vice versa.\n",
    "\n",
    "- Array Advantages (vs. Link-Lists)\n",
    "\n",
    "    - Index - Fast access to every element in the array using an index [], not so with linked list where elements in beginning must be traversed to your desired element.\n",
    "    \n",
    "    - Faster - In general, It is faster to access an element in an array than accessing an element in a linked-list.\n",
    "\n",
    "\n",
    "\n",
    "- Link-Lists Advantages (vs. Arrays)\n",
    "\n",
    "    - Resize - Can easily resize the link-list by adding elements without affecting the majority of the other elements in the link-list.\n",
    "    \n",
    "    - Insertion - Can easily insert an element in the middle of a linked-list, (the element is created and then you code pointers to link this element to the other element(s) in the link-list)."
   ]
  },
  {
   "cell_type": "markdown",
   "metadata": {},
   "source": [
    "### 2.3 Practice"
   ]
  },
  {
   "cell_type": "markdown",
   "metadata": {},
   "source": [
    "#### 2.3.1 Print the elements of a linked list\n",
    "\n",
    "Print the elements of the linked list to stdout/console (using printf or cout) , one per line.\n",
    "\n",
    "https://www.hackerrank.com/challenges/print-the-elements-of-a-linked-list"
   ]
  },
  {
   "cell_type": "code",
   "execution_count": 16,
   "metadata": {
    "collapsed": false
   },
   "outputs": [],
   "source": [
    "\"\"\"\n",
    " Print elements of a linked list on console\n",
    " head input could be None as well for empty list\n",
    " Node is defined as\n",
    " \n",
    " class Node(object):\n",
    " \n",
    "   def __init__(self, data=None, next_node=None):\n",
    "       self.data = data\n",
    "       self.next = next_node\n",
    " \n",
    " \n",
    "\"\"\"\n",
    "def print_list(head):\n",
    "    while(head):\n",
    "        print(head.data)\n",
    "        head = head.next"
   ]
  },
  {
   "cell_type": "markdown",
   "metadata": {},
   "source": [
    "####  2.3.2 Insert a node at the tail of a linked list\n",
    "\n",
    "You’re given the pointer to the head node of a linked list and an integer to add to the list. Create a new node with the given integer, insert this node at the tail of the linked list and return the head node. The head pointer given may be null meaning that the initial list is empty.\n",
    "\n",
    "https://www.hackerrank.com/challenges/insert-a-node-at-the-tail-of-a-linked-list"
   ]
  },
  {
   "cell_type": "code",
   "execution_count": 17,
   "metadata": {
    "collapsed": true
   },
   "outputs": [],
   "source": [
    "\"\"\"\n",
    " Insert Node at the end of a linked list \n",
    " head pointer input could be None as well for empty list\n",
    " Node is defined as\n",
    " \n",
    " class Node(object):\n",
    " \n",
    "   def __init__(self, data=None, next_node=None):\n",
    "       self.data = data\n",
    "       self.next = next_node\n",
    " \n",
    " return back the head of the linked list in the below method\n",
    "\"\"\"\n",
    "\n",
    "def Insert(head, data):\n",
    "    # empty list\n",
    "    if not head:\n",
    "        head = Node(data=data, next_node=None)\n",
    "        return head\n",
    "      \n",
    "    # non-empty list\n",
    "    curr = head\n",
    "    while(curr.next):\n",
    "        curr = curr.next\n",
    "    curr.next = Node(data=data, next_node=None)\n",
    "    return head"
   ]
  },
  {
   "cell_type": "markdown",
   "metadata": {},
   "source": [
    "#### 2.3.3 Insert a node at the head of a linked list\n",
    "\n",
    "You’re given the pointer to the head node of a linked list and an integer to add to the list. Create a new node with the given integer, insert this node at the head of the linked list and return the new head node. The head pointer given may be null meaning that the initial list is empty.\n",
    "\n",
    "https://www.hackerrank.com/challenges/insert-a-node-at-the-head-of-a-linked-list"
   ]
  },
  {
   "cell_type": "code",
   "execution_count": 18,
   "metadata": {
    "collapsed": true
   },
   "outputs": [],
   "source": [
    "\"\"\"\n",
    " Insert Node at the begining of a linked list\n",
    " head input could be None as well for empty list\n",
    " Node is defined as\n",
    " \n",
    " class Node(object):\n",
    " \n",
    "   def __init__(self, data=None, next_node=None):\n",
    "       self.data = data\n",
    "       self.next = next_node\n",
    "\n",
    " return back the head of the linked list in the below method. \n",
    "\"\"\"\n",
    "\n",
    "def Insert(head, data):\n",
    "    if not head:\n",
    "        head = Node(data=data, next_node=None)\n",
    "        return head\n",
    "    \n",
    "    prevHead = head\n",
    "    head = Node(data=data, next_node=prevHead)\n",
    "    return head"
   ]
  },
  {
   "cell_type": "markdown",
   "metadata": {},
   "source": [
    "#### 2.3.4 Insert a node at a specific position in a linked list\n",
    "\n",
    "You’re given the pointer to the head node of a linked list, an integer to add to the list and the position at which the integer must be inserted. Create a new node with the given integer, insert this node at the desired position and return the head node. A position of 0 indicates head, a position of 1 indicates one node away from the head and so on. The head pointer given may be null meaning that the initial list is empty.\n",
    "\n",
    "https://www.hackerrank.com/challenges/insert-a-node-at-a-specific-position-in-a-linked-list"
   ]
  },
  {
   "cell_type": "code",
   "execution_count": 19,
   "metadata": {
    "collapsed": true
   },
   "outputs": [],
   "source": [
    "\"\"\"\n",
    " Insert Node at the end of a linked list\n",
    " head input could be None as well for empty list\n",
    " Node is defined as\n",
    " \n",
    " class Node(object):\n",
    " \n",
    "   def __init__(self, data=None, next_node=None):\n",
    "       self.data = data\n",
    "       self.next = next_node\n",
    "\n",
    " return back the head of the linked list in the below method. \n",
    "\"\"\"\n",
    "#This is a \"method-only\" submission.\n",
    "#You only need to complete this method.\n",
    "\n",
    "def Insert_head(head, data):\n",
    "    if not head:\n",
    "        head = Node(data=data, next_node=None)\n",
    "        return head\n",
    "    \n",
    "    prevHead = head\n",
    "    head = Node(data=data, next_node=prevHead)\n",
    "    return head\n",
    " \n",
    "\n",
    "def InsertNth(head, data, position):\n",
    "    if position == 0:\n",
    "        head = Insert_head(head, data)\n",
    "        return head\n",
    "    \n",
    "    curr = head\n",
    "    while(position-1>0):\n",
    "        curr = curr.next\n",
    "        position -= 1\n",
    "        \n",
    "    nextNode = curr.next\n",
    "    curr.next = Node(data=data, next_node=nextNode)\n",
    "    return head"
   ]
  },
  {
   "cell_type": "markdown",
   "metadata": {},
   "source": [
    "#### 2.3.5 Delete a Node\n",
    "\n",
    "You’re given the pointer to the head node of a linked list and the position of a node to delete. Delete the node at the given position and return the head node. A position of 0 indicates head, a position of 1 indicates one node away from the head and so on. The list may become empty after you delete the node.\n",
    "\n",
    "https://www.hackerrank.com/challenges/delete-a-node-from-a-linked-list"
   ]
  },
  {
   "cell_type": "code",
   "execution_count": 20,
   "metadata": {
    "collapsed": true
   },
   "outputs": [],
   "source": [
    "\"\"\"\n",
    " Delete Node at a given position in a linked list\n",
    " Node is defined as\n",
    " \n",
    " class Node(object):\n",
    " \n",
    "   def __init__(self, data=None, next_node=None):\n",
    "       self.data = data\n",
    "       self.next = next_node\n",
    "\n",
    " return back the head of the linked list in the below method. \n",
    "\"\"\"\n",
    "\n",
    "def Delete(head, position):\n",
    "    if position == 0:\n",
    "        head = head.next\n",
    "        return head\n",
    "    \n",
    "    curr = head\n",
    "    while(position-1 > 0):\n",
    "        curr = curr.next\n",
    "        position -= 1\n",
    "        \n",
    "    curr.next = curr.next.next\n",
    "    return head"
   ]
  },
  {
   "cell_type": "markdown",
   "metadata": {},
   "source": [
    "## 3. Tree"
   ]
  },
  {
   "cell_type": "markdown",
   "metadata": {},
   "source": [
    "### 3.1 Definition\n",
    "\n",
    "##### 3.1.1 Tree\n",
    "A non-empty set one element of which is designated the root of the tree while the remaining elements are partitioned into non-empty sets each of which is a subtree of the root.\n",
    "<img src='https://upload.wikimedia.org/wikipedia/commons/1/10/Bstreesample.jpg'>\n",
    "\n",
    "##### 3.1.2 Depth\n",
    "The depth of a node is the length of the path (or the number of edges) from the root to that node.\n",
    "\n",
    "##### 3.1.3 Height\n",
    "The height of a node is the longest path from that node to its leaves. The height of a tree is the height of the root.\n",
    "\n",
    "##### 3.1.4 Leaf Node\n",
    "A leaf node has no children -- its only path is up to its parent."
   ]
  },
  {
   "cell_type": "markdown",
   "metadata": {},
   "source": [
    "### 3.2 Traversal\n",
    "\n",
    "Many problems require we visit the nodes of a tree in a systematic way: tasks such as counting how many nodes exist or finding the maximum element. Three different methods are possible for binary trees: preorder, postorder, and in-order, which all do the same three things: recursively traverse both the left and right subtrees and visit the current node. The difference is when the algorithm visits the current node:\n",
    "\n",
    "- Preorder: Current node, left subtree, right subtree (DLR)\n",
    "\n",
    "- Postorder: Left subtree, right subtree, current node (LRD)\n",
    "\n",
    "- In-order: Left subtree, current node, right subtree (LDR)\n",
    "\n",
    "- Levelorder: Level by level, from left to right, starting from the root node."
   ]
  },
  {
   "cell_type": "markdown",
   "metadata": {},
   "source": [
    "### 3.3 Practice"
   ]
  },
  {
   "cell_type": "markdown",
   "metadata": {},
   "source": [
    "#### 3.3.1 Tree: Preorder Traversal\n",
    "\n",
    "You are given a pointer to the root of a binary tree; print the values in preorder traversal.\n",
    "\n",
    "You only have to complete the function.\n",
    "\n",
    "https://www.hackerrank.com/challenges/tree-preorder-traversal"
   ]
  },
  {
   "cell_type": "code",
   "execution_count": null,
   "metadata": {
    "collapsed": true
   },
   "outputs": [],
   "source": [
    "void Preorder(node *root) {\n",
    "    if (root) {\n",
    "        cout << root->data << ' ';\n",
    "        Preorder(root->left);\n",
    "        Preorder(root->right);\n",
    "    }\n",
    "}"
   ]
  },
  {
   "cell_type": "markdown",
   "metadata": {},
   "source": [
    "#### 3.3.2 Tree: Tree: Postorder Traversal\n",
    "\n",
    "You are given a pointer to the root of a binary tree; print the values in post-order traversal.\n",
    "\n",
    "You only have to complete the function.\n",
    "\n",
    "https://www.hackerrank.com/challenges/tree-postorder-traversal"
   ]
  },
  {
   "cell_type": "code",
   "execution_count": null,
   "metadata": {
    "collapsed": true
   },
   "outputs": [],
   "source": [
    "void Postorder(node *root) {\n",
    "    if (root) {\n",
    "        Postorder(root->left);\n",
    "        Postorder(root->right);\n",
    "        cout << root->data << ' ';\n",
    "    }\n",
    "}"
   ]
  },
  {
   "cell_type": "markdown",
   "metadata": {},
   "source": [
    "#### 3.3.3 Tree: Inorder Traversal\n",
    "\n",
    "You are given a pointer to the root of a binary tree; print the values in in-order traversal.\n",
    "\n",
    "You only have to complete the function.\n",
    "\n",
    "https://www.hackerrank.com/challenges/tree-inorder-traversal"
   ]
  },
  {
   "cell_type": "code",
   "execution_count": null,
   "metadata": {
    "collapsed": true
   },
   "outputs": [],
   "source": [
    "void Inorder(node *root) {\n",
    "    if (root) {\n",
    "        Inorder(root->left);\n",
    "        cout << root->data << ' ';\n",
    "        Inorder(root->right);   \n",
    "    }\n",
    "\n",
    "}"
   ]
  },
  {
   "cell_type": "markdown",
   "metadata": {},
   "source": [
    "#### 3.3.4 Tree: Height of a binary tree\n",
    "\n",
    "The height of a binary tree is the number of nodes on the largest path from root to any leaf. You are given a pointer to the root of a binary tree. Return the height of the tree. \n",
    "You only have to complete the function.\n",
    "\n",
    "https://www.hackerrank.com/challenges/tree-height-of-a-binary-tree"
   ]
  },
  {
   "cell_type": "code",
   "execution_count": null,
   "metadata": {
    "collapsed": true
   },
   "outputs": [],
   "source": [
    "int height(node * root)\n",
    "{\n",
    "    if (!root)\n",
    "        return 0;\n",
    "    int leftHeight = height(root->left);\n",
    "    int rightHeight = height(root->right);\n",
    "    return leftHeight > rightHeight ? leftHeight+1 : rightHeight+1;\n",
    "}"
   ]
  },
  {
   "cell_type": "markdown",
   "metadata": {},
   "source": [
    "#### 3.3.5 Tree : Top View\n",
    "\n",
    "You are given a pointer to the root of a binary tree. Print the top view of the binary tree. \n",
    "You only have to complete the function. \n",
    "\n",
    "https://www.hackerrank.com/challenges/tree-top-view"
   ]
  },
  {
   "cell_type": "code",
   "execution_count": null,
   "metadata": {
    "collapsed": true
   },
   "outputs": [],
   "source": [
    "void recur_left(node *root){\n",
    "    if (!root->left) {\n",
    "        cout << root->data << ' ';\n",
    "        return;\n",
    "    }\n",
    "    recur_left(root->left);\n",
    "    cout << root->data << ' ';\n",
    "}\n",
    "\n",
    "void recur_right(node *root){\n",
    "    if (!root->right) {\n",
    "        cout << root->data << ' ';\n",
    "        return;\n",
    "    }\n",
    "    cout << root->data << ' ';\n",
    "    recur_right(root->right);\n",
    "}\n",
    "\n",
    "void top_view(node * root)\n",
    "{\n",
    "    if (!root)\n",
    "        return;\n",
    "    recur_left(root->left);\n",
    "    cout << root->data << ' ';\n",
    "    recur_right(root->right);\n",
    "}"
   ]
  },
  {
   "cell_type": "markdown",
   "metadata": {},
   "source": [
    "## 4. Hash Tables\n",
    "\n",
    "### 4.1 Definition\n",
    "\n",
    "A hash table, or a hash map, is a data structure that associates keys with values. The primary operation it supports efficiently is a lookup: given a key (e.g. a person's name), find the corresponding value (e.g. that person's telephone number). \n",
    "\n",
    "<img src='https://upload.wikimedia.org/wikipedia/commons/c/c2/HASHTB08.svg'>\n",
    "\n",
    "### 4.2 Operations\n",
    "\n",
    "`make-hash-table(integer n): HashTable`\n",
    "    - Create a hash table with n buckets.\n",
    "\n",
    "`get-value(HashTable h, Comparable key): Element`\n",
    "    - Returns the value of the element for the given key. \n",
    "\n",
    "`set-value(HashTable h, Comparable key, Element new-value)`\n",
    "    - Sets the element of the array for the given key to be equal to new-value.\n",
    "    \n",
    "`remove(HashTable h, Comparable key)`\n",
    "    - Remove the element for the given key from the hash table.\n",
    "    \n",
    "### 4.3 Time Complexity\n",
    "\n",
    "Hash tables are often used to implement associative arrays, sets and caches. Like arrays, hash tables provide constant-time O(1) lookup on average, regardless of the number of items in the table. \n",
    "\n",
    "The (hopefully rare) worst-case lookup time in most hash table schemes is O(n). Compared to other associative array data structures, hash tables are most useful when we need to store a large numbers of data records.\n",
    "\n",
    "### 4.4 Collision resolution\n",
    "\n",
    "If two keys hash to the same index, the corresponding records cannot be stored in the same location. So, if it's already occupied, we must find another location to store the new record, and do it so that we can find it when we look it up later on.\n",
    "\n",
    "#### 4.4.1 Chaining\n",
    "\n",
    "In the simplest chained hash table technique, each slot in the array references a linked list of inserted records that collide to the same slot.\n",
    "\n",
    "<img src='https://upload.wikimedia.org/wikipedia/commons/3/34/HASHTB32.svg'>\n",
    "\n",
    "#### 4.4.2 Open addressing\n",
    "\n",
    "Open addressing hash tables can store the records directly within the array.\n",
    "\n",
    "- linear probing: \n",
    "    - in which the interval between probes is fixed—often at 1,\n",
    "\n",
    "<img src='https://upload.wikimedia.org/wikipedia/commons/9/90/HASHTB12.svg'>\n",
    "\n",
    "- quadratic probing \n",
    "    - in which the interval between probes increases linearly (hence, the indices are described by a quadratic function)\n",
    "- double hashing \n",
    "    - in which the interval between probes is fixed for each record but is computed by another hash function."
   ]
  },
  {
   "cell_type": "markdown",
   "metadata": {},
   "source": [
    "### 4.5 Practice\n",
    "\n",
    "#### 4.5.1 Single Number (repeated)\n",
    "\n",
    "Given an array of integers, every element appears twice except for one. Find that single one.\n",
    "\n",
    "https://leetcode.com/problems/single-number/"
   ]
  },
  {
   "cell_type": "code",
   "execution_count": null,
   "metadata": {
    "collapsed": true
   },
   "outputs": [],
   "source": [
    "class Solution(object):\n",
    "    def singleNumber(self, nums):\n",
    "        \"\"\"\n",
    "        :type nums: List[int]\n",
    "        :rtype: int\n",
    "        \"\"\"\n",
    "        d = {}\n",
    "        for num in nums:\n",
    "            if d.get(num):\n",
    "                d[num] += 1\n",
    "            else:\n",
    "                d[num] = 1\n",
    "                \n",
    "        for key, val in d.iteritems():\n",
    "            if val == 1:\n",
    "                return key"
   ]
  },
  {
   "cell_type": "markdown",
   "metadata": {},
   "source": [
    "#### 4.5.2 Contains Duplicate \n",
    "\n",
    "Given an array of integers, find if the array contains any duplicates. Your function should return true if any value appears at least twice in the array, and it should return false if every element is distinct.\n",
    "\n",
    "https://leetcode.com/problems/contains-duplicate/"
   ]
  },
  {
   "cell_type": "code",
   "execution_count": null,
   "metadata": {
    "collapsed": true
   },
   "outputs": [],
   "source": [
    "class Solution(object):\n",
    "    def containsDuplicate(self, nums):\n",
    "        \"\"\"\n",
    "        :type nums: List[int]\n",
    "        :rtype: bool\n",
    "        \"\"\""
   ]
  },
  {
   "cell_type": "markdown",
   "metadata": {},
   "source": [
    "#### 4.5.3 Happy Number\n",
    "\n",
    "Write an algorithm to determine if a number is \"happy\".\n",
    "\n",
    "A happy number is a number defined by the following process: Starting with any positive integer, replace the number by the sum of the squares of its digits, and repeat the process until the number equals 1 (where it will stay), or it loops endlessly in a cycle which does not include 1. Those numbers for which this process ends in 1 are happy numbers."
   ]
  },
  {
   "cell_type": "code",
   "execution_count": 21,
   "metadata": {
    "collapsed": true
   },
   "outputs": [],
   "source": [
    "class Solution(object):\n",
    "    def isHappy(self, n):\n",
    "        \"\"\"\n",
    "        :type n: int\n",
    "        :rtype: bool\n",
    "        \"\"\""
   ]
  },
  {
   "cell_type": "markdown",
   "metadata": {},
   "source": [
    "### 4.5.4 Contains Duplicate II\n",
    "\n",
    "Given an array of integers and an integer k, find out whether there are two distinct indices i and j in the array such that nums[i] = nums[j] and the difference between i and j is at most k.\n",
    "\n",
    "https://leetcode.com/problems/contains-duplicate-ii/"
   ]
  },
  {
   "cell_type": "code",
   "execution_count": 23,
   "metadata": {
    "collapsed": true
   },
   "outputs": [],
   "source": [
    "class Solution:\n",
    "    # @param {integer[]} nums\n",
    "    # @param {integer} k\n",
    "    # @return {boolean}\n",
    "    def containsNearbyDuplicate(self, nums, k):\n",
    "        numDict = dict()\n",
    "        for x in range(len(nums)):\n",
    "            idx = numDict.get(nums[x])\n",
    "            if idx >= 0 and x - idx <= k:\n",
    "                return True\n",
    "            numDict[nums[x]] = x\n",
    "        return False\n",
    "    \n",
    "# @source: http://bookshadow.com/weblog/2015/05/29/leetcode-contains-duplicate-ii/"
   ]
  },
  {
   "cell_type": "markdown",
   "metadata": {},
   "source": [
    "### 5. Multiplce Choice Sample Questions (Credit Suisse)\n",
    "\n",
    "\n",
    "#### 5.1 MCQ1\n",
    "If we have a tree of n nodes, how many edges will it have?\n",
    "\n",
    "- 1 \n",
    "- (n*(n-1))/2\n",
    "- (n*(n-1)) \n",
    "- n-1\n",
    "\n",
    "#### 5.2 MCQ2 \n",
    "\n",
    "Which of the following data structures can handle updates and queries in log(n) time on an array?\n",
    "\n",
    "- Linked list \n",
    "- Stack\n",
    "- Segment Tree \n",
    "- Queue\n",
    "\n",
    "#### 5.3 MCQ3\n",
    "\n",
    "Of the following data structures, which has a Last in First Out ordering? In other words, the one that\n",
    "came in last will be the first to be popped.\n",
    "\n",
    "- Queue \n",
    "- Stack\n",
    "- Vector \n",
    "- Array List"
   ]
  },
  {
   "cell_type": "markdown",
   "metadata": {},
   "source": [
    "### 6. Others\n",
    "\n",
    "- Next week: (a little bit) complex data structures\n",
    "    - Doubly-linked\n",
    "    - AVL, Red-Black\n",
    "    - Hashmap with corrision\n",
    "\n",
    "\n",
    "- Preparation for Credit Suisse\n",
    "\n",
    "    - Data Structure: https://en.wikibooks.org/wiki/Data_Structures/\n",
    "\n",
    "    - Green book: http://www.amazon.com/gp/product/1438236662?keywords=zhou%20xinfeng&qid=1444500463&ref_=sr_1_1&sr=8-1\n",
    "\n",
    "<img src='http://t2.gstatic.com/images?q=tbn:ANd9GcT2pqPZ7q8S9ZRAKu9sYX8-8t3B9GRgs35xGxWBteBuKIMBrONi' width=200>\n",
    "\n",
    "- Referral to BAML\n",
    "\n",
    "    - Preference on eTrading / Quant\n",
    "    - Send resume to wchen7@baml.com\n",
    "    \n"
   ]
  }
 ],
 "metadata": {
  "kernelspec": {
   "display_name": "Python 3",
   "language": "python",
   "name": "python3"
  },
  "language_info": {
   "codemirror_mode": {
    "name": "ipython",
    "version": 3
   },
   "file_extension": ".py",
   "mimetype": "text/x-python",
   "name": "python",
   "nbconvert_exporter": "python",
   "pygments_lexer": "ipython3",
   "version": "3.4.3"
  }
 },
 "nbformat": 4,
 "nbformat_minor": 0
}
